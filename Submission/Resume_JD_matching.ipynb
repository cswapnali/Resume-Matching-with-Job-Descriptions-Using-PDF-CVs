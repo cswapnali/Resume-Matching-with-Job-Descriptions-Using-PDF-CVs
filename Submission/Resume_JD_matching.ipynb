{
 "cells": [
  {
   "cell_type": "code",
   "execution_count": 1,
   "id": "d2d630b8",
   "metadata": {},
   "outputs": [],
   "source": [
    "import pandas as pd\n",
    "import numpy as np\n",
    "import string\n",
    "from nltk.tokenize import word_tokenize\n",
    "from nltk.corpus import stopwords\n",
    "from nltk.stem import WordNetLemmatizer\n",
    "from sklearn.metrics.pairwise import cosine_similarity\n",
    "from gensim.models import KeyedVectors\n",
    "\n",
    "lemmatizer = WordNetLemmatizer()\n",
    "w2v_model = KeyedVectors.load_word2vec_format('archive/GoogleNews-vectors-negative300.bin', binary=True)"
   ]
  },
  {
   "cell_type": "code",
   "execution_count": 2,
   "id": "e5ed4596",
   "metadata": {},
   "outputs": [],
   "source": [
    "resume_df = pd.read_excel('resume_dataset.xlsx')\n",
    "jd_df = pd.read_excel('JD_dataset.xlsx')"
   ]
  },
  {
   "cell_type": "code",
   "execution_count": 3,
   "id": "2cc97f0e",
   "metadata": {},
   "outputs": [
    {
     "data": {
      "text/html": [
       "<div>\n",
       "<style scoped>\n",
       "    .dataframe tbody tr th:only-of-type {\n",
       "        vertical-align: middle;\n",
       "    }\n",
       "\n",
       "    .dataframe tbody tr th {\n",
       "        vertical-align: top;\n",
       "    }\n",
       "\n",
       "    .dataframe thead th {\n",
       "        text-align: right;\n",
       "    }\n",
       "</style>\n",
       "<table border=\"1\" class=\"dataframe\">\n",
       "  <thead>\n",
       "    <tr style=\"text-align: right;\">\n",
       "      <th></th>\n",
       "      <th>pdf_name</th>\n",
       "      <th>category</th>\n",
       "      <th>skills</th>\n",
       "      <th>education</th>\n",
       "    </tr>\n",
       "  </thead>\n",
       "  <tbody>\n",
       "    <tr>\n",
       "      <th>0</th>\n",
       "      <td>10554236</td>\n",
       "      <td>ACCOUNTANT</td>\n",
       "      <td>Accounting; General Accounting; Accounts Payab...</td>\n",
       "      <td>Northern Maine Community College 1994 Associat...</td>\n",
       "    </tr>\n",
       "    <tr>\n",
       "      <th>1</th>\n",
       "      <td>10674770</td>\n",
       "      <td>ACCOUNTANT</td>\n",
       "      <td>accounting, accounts payable, Accounts Receiva...</td>\n",
       "      <td>Bachelor of Science : Accounting , May 2010 Un...</td>\n",
       "    </tr>\n",
       "    <tr>\n",
       "      <th>2</th>\n",
       "      <td>11163645</td>\n",
       "      <td>ACCOUNTANT</td>\n",
       "      <td>accounts payables, accounts receivables, Accou...</td>\n",
       "      <td>Computer Applications Specialist Certificate P...</td>\n",
       "    </tr>\n",
       "    <tr>\n",
       "      <th>3</th>\n",
       "      <td>11759079</td>\n",
       "      <td>ACCOUNTANT</td>\n",
       "      <td>accounting, balance sheet, budgets, client, cl...</td>\n",
       "      <td>EMORY UNIVERSITY, Goizueta Business School 5 2...</td>\n",
       "    </tr>\n",
       "    <tr>\n",
       "      <th>4</th>\n",
       "      <td>12065211</td>\n",
       "      <td>ACCOUNTANT</td>\n",
       "      <td>Aderant/CMSExcelQuickBooks ProSQLAccessÂ Peach...</td>\n",
       "      <td>Bachelor of Business Administration : Accounti...</td>\n",
       "    </tr>\n",
       "  </tbody>\n",
       "</table>\n",
       "</div>"
      ],
      "text/plain": [
       "   pdf_name    category                                             skills  \\\n",
       "0  10554236  ACCOUNTANT  Accounting; General Accounting; Accounts Payab...   \n",
       "1  10674770  ACCOUNTANT  accounting, accounts payable, Accounts Receiva...   \n",
       "2  11163645  ACCOUNTANT  accounts payables, accounts receivables, Accou...   \n",
       "3  11759079  ACCOUNTANT  accounting, balance sheet, budgets, client, cl...   \n",
       "4  12065211  ACCOUNTANT  Aderant/CMSExcelQuickBooks ProSQLAccessÂ Peach...   \n",
       "\n",
       "                                           education  \n",
       "0  Northern Maine Community College 1994 Associat...  \n",
       "1  Bachelor of Science : Accounting , May 2010 Un...  \n",
       "2  Computer Applications Specialist Certificate P...  \n",
       "3  EMORY UNIVERSITY, Goizueta Business School 5 2...  \n",
       "4  Bachelor of Business Administration : Accounti...  "
      ]
     },
     "execution_count": 3,
     "metadata": {},
     "output_type": "execute_result"
    }
   ],
   "source": [
    "resume_df.head()"
   ]
  },
  {
   "cell_type": "code",
   "execution_count": 4,
   "id": "3c76c193",
   "metadata": {},
   "outputs": [
    {
     "data": {
      "text/html": [
       "<div>\n",
       "<style scoped>\n",
       "    .dataframe tbody tr th:only-of-type {\n",
       "        vertical-align: middle;\n",
       "    }\n",
       "\n",
       "    .dataframe tbody tr th {\n",
       "        vertical-align: top;\n",
       "    }\n",
       "\n",
       "    .dataframe thead th {\n",
       "        text-align: right;\n",
       "    }\n",
       "</style>\n",
       "<table border=\"1\" class=\"dataframe\">\n",
       "  <thead>\n",
       "    <tr style=\"text-align: right;\">\n",
       "      <th></th>\n",
       "      <th>company_name</th>\n",
       "      <th>job_description</th>\n",
       "    </tr>\n",
       "  </thead>\n",
       "  <tbody>\n",
       "    <tr>\n",
       "      <th>0</th>\n",
       "      <td>Google</td>\n",
       "      <td>minimum qualifications\\nbachelors degree or eq...</td>\n",
       "    </tr>\n",
       "    <tr>\n",
       "      <th>1</th>\n",
       "      <td>Apple</td>\n",
       "      <td>description\\nas an asc you will be highly infl...</td>\n",
       "    </tr>\n",
       "    <tr>\n",
       "      <th>2</th>\n",
       "      <td>Netflix</td>\n",
       "      <td>its an amazing time to be joining netflix as w...</td>\n",
       "    </tr>\n",
       "    <tr>\n",
       "      <th>3</th>\n",
       "      <td>Robert Half</td>\n",
       "      <td>description\\n\\nweb designers looking to expand...</td>\n",
       "    </tr>\n",
       "    <tr>\n",
       "      <th>4</th>\n",
       "      <td>TrackFive</td>\n",
       "      <td>at trackfive weve got big goals were on a miss...</td>\n",
       "    </tr>\n",
       "  </tbody>\n",
       "</table>\n",
       "</div>"
      ],
      "text/plain": [
       "  company_name                                    job_description\n",
       "0       Google  minimum qualifications\\nbachelors degree or eq...\n",
       "1        Apple  description\\nas an asc you will be highly infl...\n",
       "2      Netflix  its an amazing time to be joining netflix as w...\n",
       "3  Robert Half  description\\n\\nweb designers looking to expand...\n",
       "4    TrackFive  at trackfive weve got big goals were on a miss..."
      ]
     },
     "execution_count": 4,
     "metadata": {},
     "output_type": "execute_result"
    }
   ],
   "source": [
    "jd_df.head()"
   ]
  },
  {
   "cell_type": "code",
   "execution_count": 5,
   "id": "6e951c66",
   "metadata": {},
   "outputs": [
    {
     "name": "stdout",
     "output_type": "stream",
     "text": [
      "<class 'pandas.core.frame.DataFrame'>\n",
      "RangeIndex: 4968 entries, 0 to 4967\n",
      "Data columns (total 4 columns):\n",
      " #   Column     Non-Null Count  Dtype \n",
      "---  ------     --------------  ----- \n",
      " 0   pdf_name   4968 non-null   int64 \n",
      " 1   category   4968 non-null   object\n",
      " 2   skills     2316 non-null   object\n",
      " 3   education  2409 non-null   object\n",
      "dtypes: int64(1), object(3)\n",
      "memory usage: 155.4+ KB\n"
     ]
    }
   ],
   "source": [
    "resume_df.info()"
   ]
  },
  {
   "cell_type": "code",
   "execution_count": 6,
   "id": "a5594ce2",
   "metadata": {},
   "outputs": [
    {
     "name": "stdout",
     "output_type": "stream",
     "text": [
      "<class 'pandas.core.frame.DataFrame'>\n",
      "RangeIndex: 15 entries, 0 to 14\n",
      "Data columns (total 2 columns):\n",
      " #   Column           Non-Null Count  Dtype \n",
      "---  ------           --------------  ----- \n",
      " 0   company_name     15 non-null     object\n",
      " 1   job_description  15 non-null     object\n",
      "dtypes: object(2)\n",
      "memory usage: 368.0+ bytes\n"
     ]
    }
   ],
   "source": [
    "jd_df.info()"
   ]
  },
  {
   "cell_type": "markdown",
   "id": "fc96d014",
   "metadata": {},
   "source": [
    "### removing null values"
   ]
  },
  {
   "cell_type": "code",
   "execution_count": 7,
   "id": "b2e6b9b1",
   "metadata": {},
   "outputs": [
    {
     "data": {
      "text/plain": [
       "pdf_name        0\n",
       "category        0\n",
       "skills       2652\n",
       "education    2559\n",
       "dtype: int64"
      ]
     },
     "execution_count": 7,
     "metadata": {},
     "output_type": "execute_result"
    }
   ],
   "source": [
    "resume_df.isnull().sum()"
   ]
  },
  {
   "cell_type": "code",
   "execution_count": 8,
   "id": "86fde5dd",
   "metadata": {},
   "outputs": [
    {
     "name": "stdout",
     "output_type": "stream",
     "text": [
      "<class 'pandas.core.frame.DataFrame'>\n",
      "Int64Index: 2250 entries, 0 to 2483\n",
      "Data columns (total 4 columns):\n",
      " #   Column     Non-Null Count  Dtype \n",
      "---  ------     --------------  ----- \n",
      " 0   pdf_name   2250 non-null   int64 \n",
      " 1   category   2250 non-null   object\n",
      " 2   skills     2250 non-null   object\n",
      " 3   education  2250 non-null   object\n",
      "dtypes: int64(1), object(3)\n",
      "memory usage: 87.9+ KB\n"
     ]
    }
   ],
   "source": [
    "resume_df = resume_df.dropna()\n",
    "resume_df.info()"
   ]
  },
  {
   "cell_type": "markdown",
   "id": "cf0a5f29",
   "metadata": {},
   "source": [
    "### tokenize_preprocess"
   ]
  },
  {
   "cell_type": "code",
   "execution_count": 9,
   "id": "06ee4bd7",
   "metadata": {},
   "outputs": [],
   "source": [
    "def tokenize_preprocess(text):\n",
    "    tokens = word_tokenize(text.lower())  \n",
    "    tokens = [token for token in tokens if token not in stopwords.words('english')] \n",
    "    tokens = [token for token in tokens if token not in string.punctuation]\n",
    "    tokens = [lemmatizer.lemmatize(token) for token in tokens]\n",
    "\n",
    "    return tokens"
   ]
  },
  {
   "cell_type": "code",
   "execution_count": 10,
   "id": "cc856d40",
   "metadata": {},
   "outputs": [],
   "source": [
    "tokenize_cols = ['skills', 'education'] \n",
    "for column in tokenize_cols:\n",
    "    new_col = f'{column}_tokens'\n",
    "    resume_df[new_col] = resume_df[column].apply(tokenize_preprocess)"
   ]
  },
  {
   "cell_type": "code",
   "execution_count": 11,
   "id": "953be75d",
   "metadata": {},
   "outputs": [],
   "source": [
    "jd_df['jd_tokens'] = jd_df['job_description'].apply(tokenize_preprocess) "
   ]
  },
  {
   "cell_type": "markdown",
   "id": "32f4d797",
   "metadata": {},
   "source": [
    "### embedding "
   ]
  },
  {
   "cell_type": "code",
   "execution_count": 12,
   "id": "ccef1193",
   "metadata": {
    "scrolled": false
   },
   "outputs": [],
   "source": [
    "def get_embeddings(tokens):\n",
    "    embeddings = [w2v_model[token] for token in tokens if token in w2v_model]\n",
    "    if embeddings:\n",
    "        return np.mean(embeddings, axis=0)  \n",
    "    else:\n",
    "        return np.zeros(w2v_model.vector_size)  "
   ]
  },
  {
   "cell_type": "code",
   "execution_count": 13,
   "id": "c27b5b87",
   "metadata": {},
   "outputs": [],
   "source": [
    "resume_df['skills_embeddings'] = resume_df['skills_tokens'].apply(get_embeddings)\n",
    "resume_df['education_embeddings'] = resume_df['education_tokens'].apply(get_embeddings)\n",
    "jd_df['jd_embeddings'] = jd_df['jd_tokens'].apply(get_embeddings)"
   ]
  },
  {
   "cell_type": "code",
   "execution_count": 14,
   "id": "7be8053b",
   "metadata": {},
   "outputs": [
    {
     "data": {
      "text/html": [
       "<div>\n",
       "<style scoped>\n",
       "    .dataframe tbody tr th:only-of-type {\n",
       "        vertical-align: middle;\n",
       "    }\n",
       "\n",
       "    .dataframe tbody tr th {\n",
       "        vertical-align: top;\n",
       "    }\n",
       "\n",
       "    .dataframe thead th {\n",
       "        text-align: right;\n",
       "    }\n",
       "</style>\n",
       "<table border=\"1\" class=\"dataframe\">\n",
       "  <thead>\n",
       "    <tr style=\"text-align: right;\">\n",
       "      <th></th>\n",
       "      <th>pdf_name</th>\n",
       "      <th>category</th>\n",
       "      <th>skills</th>\n",
       "      <th>education</th>\n",
       "      <th>skills_tokens</th>\n",
       "      <th>education_tokens</th>\n",
       "      <th>skills_embeddings</th>\n",
       "      <th>education_embeddings</th>\n",
       "    </tr>\n",
       "  </thead>\n",
       "  <tbody>\n",
       "    <tr>\n",
       "      <th>0</th>\n",
       "      <td>10554236</td>\n",
       "      <td>ACCOUNTANT</td>\n",
       "      <td>Accounting; General Accounting; Accounts Payab...</td>\n",
       "      <td>Northern Maine Community College 1994 Associat...</td>\n",
       "      <td>[accounting, general, accounting, account, pay...</td>\n",
       "      <td>[northern, maine, community, college, 1994, as...</td>\n",
       "      <td>[-0.047740392, 0.06525966, 0.07109724, -0.0138...</td>\n",
       "      <td>[-0.020326272, -0.0030079377, 0.002674592, 0.0...</td>\n",
       "    </tr>\n",
       "    <tr>\n",
       "      <th>1</th>\n",
       "      <td>10674770</td>\n",
       "      <td>ACCOUNTANT</td>\n",
       "      <td>accounting, accounts payable, Accounts Receiva...</td>\n",
       "      <td>Bachelor of Science : Accounting , May 2010 Un...</td>\n",
       "      <td>[accounting, account, payable, account, receiv...</td>\n",
       "      <td>[bachelor, science, accounting, may, 2010, uni...</td>\n",
       "      <td>[0.026716717, 0.021528218, -0.046174817, 0.043...</td>\n",
       "      <td>[-0.00047751033, 0.011287914, 0.04041784, 0.09...</td>\n",
       "    </tr>\n",
       "    <tr>\n",
       "      <th>2</th>\n",
       "      <td>11163645</td>\n",
       "      <td>ACCOUNTANT</td>\n",
       "      <td>accounts payables, accounts receivables, Accou...</td>\n",
       "      <td>Computer Applications Specialist Certificate P...</td>\n",
       "      <td>[account, payable, account, receivables, accou...</td>\n",
       "      <td>[computer, application, specialist, certificat...</td>\n",
       "      <td>[0.0036406822, 0.009838997, -0.027495688, 0.02...</td>\n",
       "      <td>[-0.04904879, -0.032334547, 0.036433294, 0.018...</td>\n",
       "    </tr>\n",
       "    <tr>\n",
       "      <th>3</th>\n",
       "      <td>11759079</td>\n",
       "      <td>ACCOUNTANT</td>\n",
       "      <td>accounting, balance sheet, budgets, client, cl...</td>\n",
       "      <td>EMORY UNIVERSITY, Goizueta Business School 5 2...</td>\n",
       "      <td>[accounting, balance, sheet, budget, client, c...</td>\n",
       "      <td>[emory, university, goizueta, business, school...</td>\n",
       "      <td>[0.0153676085, 0.031360827, -0.0077594956, 0.0...</td>\n",
       "      <td>[0.047958374, -0.03894806, 0.07452488, 0.13410...</td>\n",
       "    </tr>\n",
       "    <tr>\n",
       "      <th>4</th>\n",
       "      <td>12065211</td>\n",
       "      <td>ACCOUNTANT</td>\n",
       "      <td>Aderant/CMSExcelQuickBooks ProSQLAccessÂ Peach...</td>\n",
       "      <td>Bachelor of Business Administration : Accounti...</td>\n",
       "      <td>[aderant/cmsexcelquickbooks, prosqlaccessâ, pe...</td>\n",
       "      <td>[bachelor, business, administration, accountin...</td>\n",
       "      <td>[-0.02050895, 0.007436717, -0.025012804, 0.021...</td>\n",
       "      <td>[-0.030963643, 0.019262696, 0.019260596, 0.067...</td>\n",
       "    </tr>\n",
       "  </tbody>\n",
       "</table>\n",
       "</div>"
      ],
      "text/plain": [
       "   pdf_name    category                                             skills  \\\n",
       "0  10554236  ACCOUNTANT  Accounting; General Accounting; Accounts Payab...   \n",
       "1  10674770  ACCOUNTANT  accounting, accounts payable, Accounts Receiva...   \n",
       "2  11163645  ACCOUNTANT  accounts payables, accounts receivables, Accou...   \n",
       "3  11759079  ACCOUNTANT  accounting, balance sheet, budgets, client, cl...   \n",
       "4  12065211  ACCOUNTANT  Aderant/CMSExcelQuickBooks ProSQLAccessÂ Peach...   \n",
       "\n",
       "                                           education  \\\n",
       "0  Northern Maine Community College 1994 Associat...   \n",
       "1  Bachelor of Science : Accounting , May 2010 Un...   \n",
       "2  Computer Applications Specialist Certificate P...   \n",
       "3  EMORY UNIVERSITY, Goizueta Business School 5 2...   \n",
       "4  Bachelor of Business Administration : Accounti...   \n",
       "\n",
       "                                       skills_tokens  \\\n",
       "0  [accounting, general, accounting, account, pay...   \n",
       "1  [accounting, account, payable, account, receiv...   \n",
       "2  [account, payable, account, receivables, accou...   \n",
       "3  [accounting, balance, sheet, budget, client, c...   \n",
       "4  [aderant/cmsexcelquickbooks, prosqlaccessâ, pe...   \n",
       "\n",
       "                                    education_tokens  \\\n",
       "0  [northern, maine, community, college, 1994, as...   \n",
       "1  [bachelor, science, accounting, may, 2010, uni...   \n",
       "2  [computer, application, specialist, certificat...   \n",
       "3  [emory, university, goizueta, business, school...   \n",
       "4  [bachelor, business, administration, accountin...   \n",
       "\n",
       "                                   skills_embeddings  \\\n",
       "0  [-0.047740392, 0.06525966, 0.07109724, -0.0138...   \n",
       "1  [0.026716717, 0.021528218, -0.046174817, 0.043...   \n",
       "2  [0.0036406822, 0.009838997, -0.027495688, 0.02...   \n",
       "3  [0.0153676085, 0.031360827, -0.0077594956, 0.0...   \n",
       "4  [-0.02050895, 0.007436717, -0.025012804, 0.021...   \n",
       "\n",
       "                                education_embeddings  \n",
       "0  [-0.020326272, -0.0030079377, 0.002674592, 0.0...  \n",
       "1  [-0.00047751033, 0.011287914, 0.04041784, 0.09...  \n",
       "2  [-0.04904879, -0.032334547, 0.036433294, 0.018...  \n",
       "3  [0.047958374, -0.03894806, 0.07452488, 0.13410...  \n",
       "4  [-0.030963643, 0.019262696, 0.019260596, 0.067...  "
      ]
     },
     "execution_count": 14,
     "metadata": {},
     "output_type": "execute_result"
    }
   ],
   "source": [
    "resume_df.head()"
   ]
  },
  {
   "cell_type": "code",
   "execution_count": 15,
   "id": "c801c3b2",
   "metadata": {},
   "outputs": [
    {
     "data": {
      "text/html": [
       "<div>\n",
       "<style scoped>\n",
       "    .dataframe tbody tr th:only-of-type {\n",
       "        vertical-align: middle;\n",
       "    }\n",
       "\n",
       "    .dataframe tbody tr th {\n",
       "        vertical-align: top;\n",
       "    }\n",
       "\n",
       "    .dataframe thead th {\n",
       "        text-align: right;\n",
       "    }\n",
       "</style>\n",
       "<table border=\"1\" class=\"dataframe\">\n",
       "  <thead>\n",
       "    <tr style=\"text-align: right;\">\n",
       "      <th></th>\n",
       "      <th>company_name</th>\n",
       "      <th>job_description</th>\n",
       "      <th>jd_tokens</th>\n",
       "      <th>jd_embeddings</th>\n",
       "    </tr>\n",
       "  </thead>\n",
       "  <tbody>\n",
       "    <tr>\n",
       "      <th>0</th>\n",
       "      <td>Google</td>\n",
       "      <td>minimum qualifications\\nbachelors degree or eq...</td>\n",
       "      <td>[minimum, qualification, bachelor, degree, equ...</td>\n",
       "      <td>[-0.020387437, -0.028363038, -0.022050206, 0.0...</td>\n",
       "    </tr>\n",
       "    <tr>\n",
       "      <th>1</th>\n",
       "      <td>Apple</td>\n",
       "      <td>description\\nas an asc you will be highly infl...</td>\n",
       "      <td>[description, asc, highly, influential, growin...</td>\n",
       "      <td>[-0.03359191, 0.03048288, -0.049520936, 0.0413...</td>\n",
       "    </tr>\n",
       "    <tr>\n",
       "      <th>2</th>\n",
       "      <td>Netflix</td>\n",
       "      <td>its an amazing time to be joining netflix as w...</td>\n",
       "      <td>[amazing, time, joining, netflix, continue, tr...</td>\n",
       "      <td>[-0.036164533, 0.022386337, -0.017780218, 0.02...</td>\n",
       "    </tr>\n",
       "    <tr>\n",
       "      <th>3</th>\n",
       "      <td>Robert Half</td>\n",
       "      <td>description\\n\\nweb designers looking to expand...</td>\n",
       "      <td>[description, web, designer, looking, expand, ...</td>\n",
       "      <td>[-0.023422241, -0.018634059, -0.023095967, 0.0...</td>\n",
       "    </tr>\n",
       "    <tr>\n",
       "      <th>4</th>\n",
       "      <td>TrackFive</td>\n",
       "      <td>at trackfive weve got big goals were on a miss...</td>\n",
       "      <td>[trackfive, weve, got, big, goal, mission, rev...</td>\n",
       "      <td>[0.013022461, 0.010071418, -0.003691656, 0.064...</td>\n",
       "    </tr>\n",
       "  </tbody>\n",
       "</table>\n",
       "</div>"
      ],
      "text/plain": [
       "  company_name                                    job_description  \\\n",
       "0       Google  minimum qualifications\\nbachelors degree or eq...   \n",
       "1        Apple  description\\nas an asc you will be highly infl...   \n",
       "2      Netflix  its an amazing time to be joining netflix as w...   \n",
       "3  Robert Half  description\\n\\nweb designers looking to expand...   \n",
       "4    TrackFive  at trackfive weve got big goals were on a miss...   \n",
       "\n",
       "                                           jd_tokens  \\\n",
       "0  [minimum, qualification, bachelor, degree, equ...   \n",
       "1  [description, asc, highly, influential, growin...   \n",
       "2  [amazing, time, joining, netflix, continue, tr...   \n",
       "3  [description, web, designer, looking, expand, ...   \n",
       "4  [trackfive, weve, got, big, goal, mission, rev...   \n",
       "\n",
       "                                       jd_embeddings  \n",
       "0  [-0.020387437, -0.028363038, -0.022050206, 0.0...  \n",
       "1  [-0.03359191, 0.03048288, -0.049520936, 0.0413...  \n",
       "2  [-0.036164533, 0.022386337, -0.017780218, 0.02...  \n",
       "3  [-0.023422241, -0.018634059, -0.023095967, 0.0...  \n",
       "4  [0.013022461, 0.010071418, -0.003691656, 0.064...  "
      ]
     },
     "execution_count": 15,
     "metadata": {},
     "output_type": "execute_result"
    }
   ],
   "source": [
    "jd_df.head()"
   ]
  },
  {
   "cell_type": "code",
   "execution_count": 16,
   "id": "dc5332bb",
   "metadata": {
    "scrolled": false
   },
   "outputs": [],
   "source": [
    "from sklearn.metrics.pairwise import cosine_similarity\n",
    "\n",
    "top_n = 5  \n",
    "\n",
    "matching_resumes = {}\n",
    "\n",
    "for _, jd_row in jd_df.iterrows():\n",
    "    jd_embeddings = jd_row['jd_embeddings']\n",
    "    resume_df['similarity'] = resume_df.apply(lambda row: cosine_similarity([jd_embeddings], [row['skills_embeddings'], row['education_embeddings']])[0][0], axis=1)\n",
    "    top_matches = resume_df.nlargest(top_n, 'similarity')\n",
    "    matching_resumes[jd_row['company_name']] = top_matches"
   ]
  },
  {
   "cell_type": "code",
   "execution_count": 17,
   "id": "c13b183f",
   "metadata": {},
   "outputs": [
    {
     "name": "stdout",
     "output_type": "stream",
     "text": [
      "******************** Google ********************\n",
      "33381211 : 0.9277\n",
      "13328680 : 0.8964\n",
      "88907739 : 0.8947\n",
      "13405733 : 0.8889\n",
      "12488356 : 0.8883\n",
      "\n",
      "\n",
      "******************** Apple ********************\n",
      "67501448 : 0.8706\n",
      "23032182 : 0.8564\n",
      "13328680 : 0.8528\n",
      "13386301 : 0.8518\n",
      "18208580 : 0.8455\n",
      "\n",
      "\n",
      "******************** Netflix ********************\n",
      "71767359 : 0.9040\n",
      "13328680 : 0.9011\n",
      "19497420 : 0.8991\n",
      "23673025 : 0.8963\n",
      "14611516 : 0.8867\n",
      "\n",
      "\n",
      "******************** Robert Half ********************\n",
      "71767359 : 0.8689\n",
      "29184740 : 0.8619\n",
      "82929064 : 0.8578\n",
      "13328680 : 0.8564\n",
      "19497420 : 0.8498\n",
      "\n",
      "\n",
      "******************** TrackFive ********************\n",
      "71767359 : 0.8933\n",
      "13964744 : 0.8866\n",
      "27152464 : 0.8852\n",
      "38698573 : 0.8706\n",
      "33381211 : 0.8701\n",
      "\n",
      "\n",
      "******************** DesignUps ********************\n",
      "71767359 : 0.8635\n",
      "13964744 : 0.8412\n",
      "29184740 : 0.8358\n",
      "26942552 : 0.8286\n",
      "32067700 : 0.8283\n",
      "\n",
      "\n",
      "******************** Equisolve, Inc. ********************\n",
      "71767359 : 0.9220\n",
      "29764492 : 0.9151\n",
      "13964744 : 0.9071\n",
      "19497420 : 0.8993\n",
      "28628090 : 0.8900\n",
      "\n",
      "\n",
      "******************** Zander Insurance Agency ********************\n",
      "19497420 : 0.9130\n",
      "23673025 : 0.9078\n",
      "71767359 : 0.9054\n",
      "13964744 : 0.8987\n",
      "13328680 : 0.8976\n",
      "\n",
      "\n",
      "******************** Tuff ********************\n",
      "71767359 : 0.9154\n",
      "13964744 : 0.9019\n",
      "19497420 : 0.9012\n",
      "13328680 : 0.8975\n",
      "15602094 : 0.8917\n",
      "\n",
      "\n",
      "******************** General Dynamics Information Technology ********************\n",
      "13964744 : 0.9028\n",
      "19497420 : 0.8980\n",
      "28628090 : 0.8969\n",
      "29746235 : 0.8944\n",
      "38698573 : 0.8934\n",
      "\n",
      "\n",
      "******************** Sony Music Entertainment ********************\n",
      "31292364 : 0.9061\n",
      "82929064 : 0.8998\n",
      "19497420 : 0.8943\n",
      "71767359 : 0.8902\n",
      "15602094 : 0.8900\n",
      "\n",
      "\n",
      "******************** Snapshot Interactive ********************\n",
      "13964744 : 0.9003\n",
      "71767359 : 0.8991\n",
      "16877897 : 0.8922\n",
      "38698573 : 0.8894\n",
      "65352424 : 0.8860\n",
      "\n",
      "\n",
      "******************** Deloitte ********************\n",
      "71767359 : 0.8968\n",
      "23673025 : 0.8913\n",
      "13964744 : 0.8893\n",
      "19497420 : 0.8834\n",
      "13328680 : 0.8820\n",
      "\n",
      "\n",
      "******************** Themesoft Inc ********************\n",
      "41152404 : 0.8782\n",
      "22450718 : 0.8715\n",
      "27152464 : 0.8702\n",
      "12472574 : 0.8677\n",
      "98300955 : 0.8612\n",
      "\n",
      "\n",
      "******************** Western Governors University ********************\n",
      "29764492 : 0.9082\n",
      "71767359 : 0.9081\n",
      "19497420 : 0.9070\n",
      "13964744 : 0.8933\n",
      "13328680 : 0.8846\n",
      "\n",
      "\n"
     ]
    }
   ],
   "source": [
    "for company_name, top_matches in matching_resumes.items():\n",
    "    jd_row = jd_df[jd_df['company_name'] == company_name].iloc[0]  \n",
    "    job_description = jd_row['job_description']\n",
    "    \n",
    "    print('*'*20, f\"{company_name}\", '*'*20)\n",
    "    #print(f\"{job_description}\")\n",
    "    \n",
    "    for _, row in top_matches.iterrows():\n",
    "        pdf_name = row['pdf_name']\n",
    "        similarity_score = row['similarity']\n",
    "        print(f\"{pdf_name} : {similarity_score:.4f}\")\n",
    "    \n",
    "    print(\"\\n\")  "
   ]
  },
  {
   "cell_type": "code",
   "execution_count": null,
   "id": "58eaba05",
   "metadata": {},
   "outputs": [],
   "source": []
  },
  {
   "cell_type": "code",
   "execution_count": null,
   "id": "b14df808",
   "metadata": {},
   "outputs": [],
   "source": []
  },
  {
   "cell_type": "code",
   "execution_count": null,
   "id": "c6293a36",
   "metadata": {},
   "outputs": [],
   "source": []
  },
  {
   "cell_type": "code",
   "execution_count": null,
   "id": "c379fecf",
   "metadata": {},
   "outputs": [],
   "source": []
  },
  {
   "cell_type": "code",
   "execution_count": null,
   "id": "7388ab11",
   "metadata": {},
   "outputs": [],
   "source": []
  }
 ],
 "metadata": {
  "kernelspec": {
   "display_name": "Python 3 (ipykernel)",
   "language": "python",
   "name": "python3"
  },
  "language_info": {
   "codemirror_mode": {
    "name": "ipython",
    "version": 3
   },
   "file_extension": ".py",
   "mimetype": "text/x-python",
   "name": "python",
   "nbconvert_exporter": "python",
   "pygments_lexer": "ipython3",
   "version": "3.10.7"
  }
 },
 "nbformat": 4,
 "nbformat_minor": 5
}
